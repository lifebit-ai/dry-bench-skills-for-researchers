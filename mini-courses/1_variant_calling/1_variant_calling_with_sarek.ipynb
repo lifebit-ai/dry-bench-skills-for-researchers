{
 "cells": [
  {
   "cell_type": "markdown",
   "metadata": {},
   "source": [
    "# nf-core/sarek: An end-to-end variant calling nextflow workflow for sarek"
   ]
  },
  {
   "cell_type": "markdown",
   "metadata": {},
   "source": [
    "![](https://github.com/nf-core/sarek/blob/master/docs/images/sarek_workflow.png?raw=true)"
   ]
  },
  {
   "cell_type": "markdown",
   "metadata": {},
   "source": [
    "## Pipeline configuration logic\n"
   ]
  },
  {
   "cell_type": "markdown",
   "metadata": {},
   "source": [
    "### 1. Select `step` \n",
    "\n",
    "**Available:**\n",
    "\n",
    "- mapping\n",
    "- prepare_recalibration\n",
    "- recalibrate\n",
    "- variant_calling\n",
    "\n",
    "\n",
    "**Example configuration options**\n",
    "\n",
    "```bash\n",
    "nextflow run main.nf --step mapping ...\n",
    "\n",
    "```\n",
    "\n"
   ]
  },
  {
   "cell_type": "markdown",
   "metadata": {},
   "source": [
    "### 2. Select Variant Calling `tools`\n",
    "\n",
    "**Available:**\n",
    "\n",
    "Germline:\n",
    " - GATK HaplotypeCaller\n",
    " - mpileup\n",
    " - FreeBayes\n",
    " - Manta \n",
    " - TIDDIT\n",
    "\n",
    "Somatic:\n",
    " - GATK Mutect2\n",
    " - Strelka\n",
    " - FreeBayes\n",
    " - ASCAT\n",
    " - CNVkit\n",
    " - ControlFREEC \n",
    " - Manta \n",
    " - MSIsensor\n",
    " \n",
    "\n",
    "**Annotation:**\n",
    " - snpEff\n",
    " - VEP\n",
    "\n",
    "**Example configuration options**\n",
    "\n",
    "```bash\n",
    "nextflow run main.nf --tools HaplotypeCaller,Strelka,VEP ...\n",
    "\n",
    "```"
   ]
  },
  {
   "cell_type": "markdown",
   "metadata": {},
   "source": [
    "## 3. Prepare `input` files\n",
    "\n",
    "Based on the selected `step` the respective input file should be created accordingly to contain either metadata for the samples and the file locations \n",
    "\n",
    "- FASTQ\n",
    "- BAM"
   ]
  },
  {
   "cell_type": "markdown",
   "metadata": {},
   "source": [
    "### 3a. `step` mapping, FASTQ `input` file\n",
    "\n",
    "```\n",
    "--input <FASTQ> --step mapping\n",
    "```"
   ]
  },
  {
   "cell_type": "markdown",
   "metadata": {},
   "source": [
    "#### --input &lt;FASTQ&gt; --step mapping\n",
    "\n",
    "The `TSV` file to start with the mapping step (`--step mapping`) with paired-end `FASTQs` should contain the columns:\n",
    "\n",
    "`subject sex status sample lane fastq1 fastq2`\n",
    "\n",
    "In this example (`example_fastq.tsv`), there are 3 read groups.\n",
    "\n",
    "| | | | | | |\n",
    "|-|-|-|-|-|-|\n",
    "|SUBJECT_ID|XX|0|SAMPLE_ID|1|/samples/normal1_1.fastq.gz|/samples/normal1_2.fastq.gz|\n",
    "|SUBJECT_ID|XX|0|SAMPLE_ID|2|/samples/normal2_1.fastq.gz|/samples/normal2_2.fastq.gz|\n",
    "|SUBJECT_ID|XX|0|SAMPLE_ID|3|/samples/normal3_1.fastq.gz|/samples/normal3_2.fastq.gz|\n",
    "\n",
    "```bash\n",
    "--input example_fastq.tsv\n",
    "```\n",
    "\n",
    "Or, for a normal/tumor pair:\n",
    "\n",
    "In this example (`example_pair_fastq.tsv`), there are 3 read groups for the normal sample and 2 for the tumor sample.\n",
    "\n",
    "| | | | | | |\n",
    "|-|-|-|-|-|-|\n",
    "|SUBJECT_ID|XX|0|SAMPLE_ID1|1|/samples/normal1_1.fastq.gz|/samples/normal1_2.fastq.gz|\n",
    "|SUBJECT_ID|XX|0|SAMPLE_ID1|2|/samples/normal2_1.fastq.gz|/samples/normal2_2.fastq.gz|\n",
    "|SUBJECT_ID|XX|0|SAMPLE_ID1|3|/samples/normal3_1.fastq.gz|/samples/normal3_2.fastq.gz|\n",
    "|SUBJECT_ID|XX|1|SAMPLE_ID2|1|/samples/tumor1_1.fastq.gz|/samples/tumor1_2.fastq.gz|\n",
    "|SUBJECT_ID|XX|1|SAMPLE_ID2|2|/samples/tumor2_1.fastq.gz|/samples/tumor2_2.fastq.gz|\n",
    "\n",
    "```bash\n",
    "--input example_pair_fastq.tsv\n",
    "```\n",
    "\n",
    "_source: [sarek docs, mapping step](https://github.com/lifebit-ai/sarek/blob/google-optim/docs/usage.md#--input-fastq---step-mapping)_"
   ]
  },
  {
   "cell_type": "markdown",
   "metadata": {},
   "source": [
    "## 3b. --input &lt;TSV&gt; --step variant_calling\n",
    "\n",
    "To start from the variant calling step (`--step variant_calling`), a `TSV` file needs to be given as input containing the paths to the `recalibrated BAM` file and the associated index.\n",
    "The `Sarek`-generated `TSV` file is stored under `results/Preprocessing/TSV/recalibrated.tsv` and will automatically be used as an input when specifying the parameter `--step variant_calling`.\n",
    "\n",
    "The `TSV` file should contain the columns:\n",
    "\n",
    "`subject sex status sample bam bai`\n",
    "\n",
    "Here is an example for two samples from the same subject:\n",
    "\n",
    "| | | | | | |\n",
    "|-|-|-|-|-|-|\n",
    "|SUBJECT_ID|XX|0|SAMPLE_ID|/samples/normal.recal.bam|/samples/normal.recal.bai|\n",
    "\n",
    "Or, for a normal/tumor pair:\n",
    "\n",
    "| | | | | | |\n",
    "|-|-|-|-|-|-|\n",
    "|SUBJECT_ID|XX|0|SAMPLE_ID1|/samples/normal.recal.bam|/samples/normal.recal.bai|\n",
    "|SUBJECT_ID|XX|1|SAMPLE_ID2|/samples/tumor.recal.bam|/samples/tumor.recal.bai|\n",
    "\n",
    "source: [sarek docs, mapping step](https://github.com/lifebit-ai/sarek/blob/google-optim/docs/usage.md#--input-tsv---step-variant_calling)"
   ]
  }
 ],
 "metadata": {
  "kernelspec": {
   "display_name": "Bash",
   "language": "bash",
   "name": "bash"
  },
  "language_info": {
   "codemirror_mode": "shell",
   "file_extension": ".sh",
   "mimetype": "text/x-sh",
   "name": "bash"
  }
 },
 "nbformat": 4,
 "nbformat_minor": 4
}
