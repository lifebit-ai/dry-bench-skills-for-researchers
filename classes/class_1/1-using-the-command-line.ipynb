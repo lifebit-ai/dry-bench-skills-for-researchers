{
 "cells": [
  {
   "cell_type": "markdown",
   "metadata": {},
   "source": [
    "# Using the command line\n",
    "\n",
    "Useful commands to perform programmatically common operations over files and folders (create, copy, move, delete, download or navigate folders)"
   ]
  },
  {
   "cell_type": "markdown",
   "metadata": {},
   "source": [
    "## Utilising the ExplainShell interactive command explorer\n",
    "\n",
    "There is an excellent resource that provides an interactive command explainer that can be accessed at https://explainshell.com/.\n",
    "Feel free to use and paste the following commands from the tutorial to see an explanation of the command based on the official commands documentation.\n",
    "\n",
    "![](http://g.recordit.co/Ku6hdxwHaw.gif)"
   ]
  },
  {
   "cell_type": "markdown",
   "metadata": {},
   "source": [
    "## 1. List files in the current folder \n",
    "\n",
    "Directory is used interchangeably with the term folder."
   ]
  },
  {
   "cell_type": "code",
   "execution_count": 3,
   "metadata": {},
   "outputs": [
    {
     "name": "stdout",
     "output_type": "stream",
     "text": [
      "total 304\n",
      "-rw-r--r-- 1 jovyan users   1829 Dec  3 14:53 1-using-the-command-line.ipynb\n",
      "-rw-r--r-- 1 jovyan users 302653 Dec  3 14:43 2-reading-data-and-plotting-in-R.ipynb\n",
      "-rw-r--r-- 1 jovyan users    167 Dec  3 14:43 install_dependencies.R\n",
      "-rw-r--r-- 1 jovyan users      0 Dec  3 14:43 README.md\n"
     ]
    }
   ],
   "source": [
    "ls -l"
   ]
  },
  {
   "cell_type": "markdown",
   "metadata": {},
   "source": [
    "## 2. Inspect your current folder location in the file system\n",
    "\n",
    "To see in which folder you are currently in, use the **`pwd`** command, short fro **`print working dorectory`**. This will return the absolut path to the location you currently stand.\n",
    "\n",
    "> NOTE: \n",
    "What is an _absolut_ path? And what is not considered an absolut path?\n",
    "\n",
    "See this resource for a thorough explanation: https://www.linuxnix.com/abslute-path-vs-relative-path-in-linuxunix/"
   ]
  },
  {
   "cell_type": "code",
   "execution_count": 6,
   "metadata": {},
   "outputs": [
    {
     "name": "stdout",
     "output_type": "stream",
     "text": [
      "/mnt/shared/ubuntu/session_data/dry-bench-skills-for-researchers/classes/class_1/tutorials\n"
     ]
    }
   ],
   "source": [
    "pwd"
   ]
  },
  {
   "cell_type": "markdown",
   "metadata": {},
   "source": [
    "## 3. Copy a file\n",
    "\n",
    "Duplicate the file content while retaining the initial copy"
   ]
  },
  {
   "cell_type": "code",
   "execution_count": 7,
   "metadata": {},
   "outputs": [],
   "source": [
    "cp README.md duplicated_README.md"
   ]
  },
  {
   "cell_type": "markdown",
   "metadata": {},
   "source": [
    "Now let's inspect if the file was created, by listing files in the directory with the `ls -l` command. We are expecting to view the file with name `duplicated_README.md` in the listed files and folders"
   ]
  },
  {
   "cell_type": "code",
   "execution_count": 12,
   "metadata": {},
   "outputs": [
    {
     "name": "stdout",
     "output_type": "stream",
     "text": [
      "total 312\n",
      "-rw-r--r-- 1 jovyan users   4266 Dec  3 16:50 1-using-the-command-line.ipynb\n",
      "-rw-r--r-- 1 jovyan users 302653 Dec  3 14:43 2-reading-data-and-plotting-in-R.ipynb\n",
      "-rw-r--r-- 1 jovyan users      0 Dec  3 16:48 duplicated_README.md\n",
      "-rw-r--r-- 1 jovyan users    167 Dec  3 14:43 install_dependencies.R\n",
      "drwxr-xr-x 2 jovyan users   4096 Dec  3 16:50 new_folder\n",
      "-rw-r--r-- 1 jovyan users      0 Dec  3 14:43 README.md\n"
     ]
    }
   ],
   "source": [
    "ls -l"
   ]
  },
  {
   "cell_type": "markdown",
   "metadata": {},
   "source": [
    "# 4. Deleting a file\n",
    "\n",
    "To delete (remove) a file we can use the command `rm name_of_folder`. Let's delete the duplicate README.md file named `duplicated_README.md`\n"
   ]
  },
  {
   "cell_type": "code",
   "execution_count": 15,
   "metadata": {},
   "outputs": [],
   "source": [
    "rm duplicated_README.md"
   ]
  },
  {
   "cell_type": "markdown",
   "metadata": {},
   "source": [
    "Now let's inspect if the file was created, by listing files in the directory with the `ls -l` command. We are expecting to **not** view the file with name `duplicated_README.md` as we just **deleted** it in the listed files and folders"
   ]
  },
  {
   "cell_type": "code",
   "execution_count": 17,
   "metadata": {},
   "outputs": [
    {
     "name": "stdout",
     "output_type": "stream",
     "text": [
      "total 312\n",
      "-rw-r--r-- 1 jovyan users   5964 Dec  3 16:54 1-using-the-command-line.ipynb\n",
      "-rw-r--r-- 1 jovyan users 302653 Dec  3 14:43 2-reading-data-and-plotting-in-R.ipynb\n",
      "-rw-r--r-- 1 jovyan users    167 Dec  3 14:43 install_dependencies.R\n",
      "drwxr-xr-x 2 jovyan users   4096 Dec  3 16:50 new_folder\n",
      "-rw-r--r-- 1 jovyan users      0 Dec  3 14:43 README.md\n"
     ]
    }
   ],
   "source": [
    "ls -l"
   ]
  },
  {
   "cell_type": "markdown",
   "metadata": {},
   "source": [
    "## 5. Create a new direcctory (folder)\n",
    "\n",
    "To create a new folder if that folder doesn't exist, we can use the command `mkdir name_of_folder`. Let's create a folder named `new_folder`\n",
    "\n"
   ]
  },
  {
   "cell_type": "code",
   "execution_count": 13,
   "metadata": {},
   "outputs": [
    {
     "name": "stdout",
     "output_type": "stream",
     "text": [
      "mkdir: cannot create directory ‘new_folder’: File exists\n"
     ]
    },
    {
     "ename": "",
     "evalue": "1",
     "output_type": "error",
     "traceback": []
    }
   ],
   "source": [
    "mkdir new_folder"
   ]
  },
  {
   "cell_type": "markdown",
   "metadata": {},
   "source": [
    "Now let's inspect if the folder was created, by listing files in the directory with the `ls -l` command. We are expecting to view the folder with name `new_folder` in the listed files and folders"
   ]
  },
  {
   "cell_type": "markdown",
   "metadata": {},
   "source": [
    "Let's inspect the folder exists with our trusted `ls -l` command"
   ]
  },
  {
   "cell_type": "code",
   "execution_count": 18,
   "metadata": {},
   "outputs": [
    {
     "name": "stdout",
     "output_type": "stream",
     "text": [
      "total 312\n",
      "-rw-r--r-- 1 jovyan users   6522 Dec  3 16:57 1-using-the-command-line.ipynb\n",
      "-rw-r--r-- 1 jovyan users 302653 Dec  3 14:43 2-reading-data-and-plotting-in-R.ipynb\n",
      "-rw-r--r-- 1 jovyan users    167 Dec  3 14:43 install_dependencies.R\n",
      "drwxr-xr-x 2 jovyan users   4096 Dec  3 16:50 new_folder\n",
      "-rw-r--r-- 1 jovyan users      0 Dec  3 14:43 README.md\n"
     ]
    }
   ],
   "source": [
    "ls -l"
   ]
  },
  {
   "cell_type": "markdown",
   "metadata": {},
   "source": [
    "## 6. Delete a folder\n",
    "\n",
    "We can delete a folder using the `rm -r` command:"
   ]
  },
  {
   "cell_type": "code",
   "execution_count": 19,
   "metadata": {},
   "outputs": [],
   "source": [
    "rm -r new_folder"
   ]
  },
  {
   "cell_type": "markdown",
   "metadata": {},
   "source": [
    "Let's inspect that the folder is indeed deleted:"
   ]
  },
  {
   "cell_type": "code",
   "execution_count": 20,
   "metadata": {},
   "outputs": [
    {
     "name": "stdout",
     "output_type": "stream",
     "text": [
      "total 308\n",
      "-rw-r--r-- 1 jovyan users   6522 Dec  3 16:57 1-using-the-command-line.ipynb\n",
      "-rw-r--r-- 1 jovyan users 302653 Dec  3 14:43 2-reading-data-and-plotting-in-R.ipynb\n",
      "-rw-r--r-- 1 jovyan users    167 Dec  3 14:43 install_dependencies.R\n",
      "-rw-r--r-- 1 jovyan users      0 Dec  3 14:43 README.md\n"
     ]
    }
   ],
   "source": [
    "ls -l"
   ]
  },
  {
   "cell_type": "markdown",
   "metadata": {},
   "source": [
    "## 7. Downloading a file using a link\n",
    "\n",
    "We can retrieve a file using a public link. For example, we have uploaded in a public ZENODO record for this course an example file. The link for the file is: https://zenodo.org/record/4302133/files/deseq2_5k.csv"
   ]
  },
  {
   "cell_type": "code",
   "execution_count": null,
   "metadata": {},
   "outputs": [],
   "source": []
  }
 ],
 "metadata": {
  "kernelspec": {
   "display_name": "Bash",
   "language": "bash",
   "name": "bash"
  },
  "language_info": {
   "codemirror_mode": "shell",
   "file_extension": ".sh",
   "mimetype": "text/x-sh",
   "name": "bash"
  }
 },
 "nbformat": 4,
 "nbformat_minor": 4
}
