{
 "cells": [
  {
   "cell_type": "markdown",
   "metadata": {},
   "source": [
    "## **Git Routine 2**: Extend your current code and use Git, GitHub to keep track of changes and contribute to collaborative projects"
   ]
  },
  {
   "cell_type": "markdown",
   "metadata": {},
   "source": [
    "In this exercise, we will use the personal forks as the repositorie where each of us will contribute."
   ]
  },
  {
   "cell_type": "markdown",
   "metadata": {},
   "source": [
    "## 1. Navigate into your folder named under your GitHub username\n",
    "\n",
    "```\n",
    "cd <my username>/dry-bench-skills-for-researchers\n",
    "```"
   ]
  },
  {
   "cell_type": "markdown",
   "metadata": {},
   "source": [
    "`git remote -v`\n",
    "\n",
    "You should be seeing something like:\n",
    "\n",
    "```\n",
    "origin  https://github.com/<YOUR GITHUB USER NAME>/dry-bench-skills-for-researchers (fetch)\n",
    "origin  https://github.com/<YOUR GITHUB USER NAME>/dry-bench-skills-for-researchers (push)\n",
    "```\n"
   ]
  },
  {
   "cell_type": "markdown",
   "metadata": {},
   "source": [
    "## 2. Get used to the most handy command: `git status`\n",
    "\n",
    "\n",
    "The git status command helps us inspect if there are files changed in our local copy of our repository.\n",
    "\n",
    "\n",
    "`git status`\n",
    "\n",
    "You should be seeing something like:\n",
    "\n",
    "```\n",
    "On branch main\n",
    "\n",
    "```\n",
    "\n"
   ]
  },
  {
   "cell_type": "markdown",
   "metadata": {},
   "source": [
    "## 3. Create a new branch to make some edits \n",
    "\n",
    "By creating a new branch, we are suggesting changes in files. \n",
    "\n",
    "To create a new branch type name `updates-resources`:\n",
    "\n",
    "\n",
    "```\n",
    " git checkout -b adds-resources\n",
    "\n",
    "```\n",
    "\n",
    "This will create a new branch.\n"
   ]
  },
  {
   "cell_type": "markdown",
   "metadata": {},
   "source": [
    "## 4. Verify that you are indeed now in this branch\n"
   ]
  },
  {
   "cell_type": "markdown",
   "metadata": {},
   "source": [
    "`git branch`"
   ]
  },
  {
   "cell_type": "markdown",
   "metadata": {},
   "source": [
    "## 5. Push the newly created branch to GitHub\n",
    "\n",
    "To send the new branch to your repository in GitHub, type:\n",
    "\n",
    "\n",
    "```\n",
    "git push --set-upstream origin  adds-resources\n",
    "```\n",
    "\n",
    "You will be asked to authenticate by typing your username and GitHub password"
   ]
  },
  {
   "cell_type": "markdown",
   "metadata": {},
   "source": [
    "## 6. Edit a file \n",
    "\n",
    "For example you can edit the file inside the folder `<YOUR GITHUB USER NAME>/dry-bench-skills-for-researchers/classes/class_2/README.md`\n",
    "and add one more useful resource for Git commands, eg this one:\n",
    "\n",
    "\n",
    "```md\n",
    "A list of commonly used Git commands, https://github.com/joshnh/Git-Commands\n",
    "\n",
    "```"
   ]
  },
  {
   "cell_type": "markdown",
   "metadata": {},
   "source": [
    "## 7. Inspect changes with `git status`"
   ]
  },
  {
   "cell_type": "markdown",
   "metadata": {},
   "source": [
    "You should be able to see changes and a message imilar to:\n",
    "\n",
    "\n",
    "```\n",
    "\n",
    "On branch adds-resources\n",
    "\n",
    "Changes not staged for commit:\n",
    "  (use \"git add <file>...\" to update what will be committed)\n",
    "  (use \"git checkout -- <file>...\" to discard changes in working directory)\n",
    "\n",
    "        modified:   classes/class_2/README.md\n",
    "\n",
    "```"
   ]
  },
  {
   "cell_type": "markdown",
   "metadata": {},
   "source": [
    "## 8. Add the modified file to the branch"
   ]
  },
  {
   "cell_type": "markdown",
   "metadata": {},
   "source": [
    "To do so:\n",
    "\n",
    "```\n",
    "git add classes/class_2/README.md\n",
    "\n",
    "```"
   ]
  },
  {
   "cell_type": "markdown",
   "metadata": {},
   "source": [
    "## 9. Write a message tha denotes what change was done and finalise the addition"
   ]
  },
  {
   "cell_type": "markdown",
   "metadata": {},
   "source": [
    "To do so type the following command:\n",
    "\n",
    "```\n",
    "git commit -m 'Adds one more resource to Git references'\n",
    "```"
   ]
  },
  {
   "cell_type": "markdown",
   "metadata": {},
   "source": [
    "## 10. Last step, `push` changes to GitHub"
   ]
  },
  {
   "cell_type": "markdown",
   "metadata": {},
   "source": [
    "```\n",
    "git push\n",
    "```\n",
    "\n",
    "This steps concludes our routine to add changes. Now we can go to GitHub to propose the changes we want to make."
   ]
  },
  {
   "cell_type": "markdown",
   "metadata": {},
   "source": [
    "## Next up: let's go to GitHub to inspect our work and open a request to add our suggested changes"
   ]
  }
 ],
 "metadata": {
  "kernelspec": {
   "display_name": "Bash",
   "language": "bash",
   "name": "bash"
  },
  "language_info": {
   "codemirror_mode": "shell",
   "file_extension": ".sh",
   "mimetype": "text/x-sh",
   "name": "bash"
  }
 },
 "nbformat": 4,
 "nbformat_minor": 4
}
