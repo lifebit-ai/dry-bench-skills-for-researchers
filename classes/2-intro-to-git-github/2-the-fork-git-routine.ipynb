{
 "cells": [
  {
   "cell_type": "markdown",
   "metadata": {},
   "source": [
    "## **Git Routine 1**: Reusing an available repository with `fork` and how to keep in sync with parent project\n",
    "\n",
    "\n",
    "The are countless repositories in GitHub were we can find code and resources that we would like to use. This option is rather helpful if we don't want to start a project from scratch or simply because we found a project interesting and we want to try to play around with the code. We have the option to **`FORK`** a public repository from GitHub and continue working on it from our side by updating the code. To do that we will use the https://github.com/lifebit-ai/dry-bench-skills-for-researchers repository as our example for this exercise.\n",
    "\n",
    "\n",
    "By the end of this exercise, we will have learned the Git routine for forking repositories and setting them up to keep an eye in the future so that we can update our version with latest change."
   ]
  },
  {
   "cell_type": "markdown",
   "metadata": {},
   "source": [
    "## 1. **Fork** a public repository\n",
    "\n",
    "Visit the repository address at https://github.com/lifebit-ai/dry-bench-skills-for-researchers. Click on the fork button on the top right corner."
   ]
  },
  {
   "cell_type": "markdown",
   "metadata": {},
   "source": [
    "## 2. Create a directory with your GitHub name\n",
    "\n",
    "In the terminal, create a directory with your GitHub name. This will help you remember what repository you are working on, which in this case we intend it to be your own `fork`."
   ]
  },
  {
   "cell_type": "markdown",
   "metadata": {},
   "source": [
    "\n",
    "`mkdir <YOUR GITHUB USER NAME>`"
   ]
  },
  {
   "cell_type": "markdown",
   "metadata": {},
   "source": [
    "Navigate into this directory with the `cd` command."
   ]
  },
  {
   "cell_type": "markdown",
   "metadata": {},
   "source": [
    "`cd cgpu`"
   ]
  },
  {
   "cell_type": "markdown",
   "metadata": {},
   "source": [
    "## 3. **Clone** your own fork of the repo in your current directory"
   ]
  },
  {
   "cell_type": "markdown",
   "metadata": {},
   "source": [
    "`git clone https://github.com/<YOUR GITHUB USER NAME>/dry-bench-skills-for-researchers`"
   ]
  },
  {
   "cell_type": "markdown",
   "metadata": {},
   "source": [
    "## 4. Verify that your **remote origin** repository is the correct one \n",
    "\n",
    "Verify the the local copy of the repository has been copied from your personal fork"
   ]
  },
  {
   "cell_type": "markdown",
   "metadata": {},
   "source": [
    "`git remote -v`\n",
    "\n",
    "You should be seeing something like:\n",
    "\n",
    "```\n",
    "origin  https://github.com/<YOUR GITHUB USER NAME>/dry-bench-skills-for-researchers (fetch)\n",
    "origin  https://github.com/<YOUR GITHUB USER NAME>/dry-bench-skills-for-researchers (push)\n",
    "```\n"
   ]
  },
  {
   "cell_type": "markdown",
   "metadata": {},
   "source": [
    "## 5. Add the initial repository from lifebit-ai as your **remote upstream**\n",
    "\n",
    "This will help us, if there are changes in the future in the initial repository, to be able to absorb them in our version and keep them in sync\n",
    "\n"
   ]
  },
  {
   "cell_type": "markdown",
   "metadata": {},
   "source": [
    "```\n",
    "git remote add upstream https://github.com/lifebit-ai/dry-bench-skills-for-researchers\n",
    "```"
   ]
  },
  {
   "cell_type": "markdown",
   "metadata": {},
   "source": [
    "## 6. Verify that your **remote upstream** repository is the correct one (the `lifebit-ai` one)\n"
   ]
  },
  {
   "cell_type": "markdown",
   "metadata": {},
   "source": [
    "`git remote -v`\n",
    "\n",
    "\n",
    "You should be seeing something like:\n",
    "\n",
    "\n",
    "```\n",
    "origin  https://github.com/<YOUR GITHUB USER NAME>/dry-bench-skills-for-researchers (fetch)\n",
    "origin  https://github.com/<YOUR GITHUB USER NAME>/dry-bench-skills-for-researchers (push)\n",
    "upstream        https://github.com/lifebit-ai/dry-bench-skills-for-researchers (fetch)\n",
    "upstream        https://github.com/lifebit-ai/dry-bench-skills-for-researchers (push)\n",
    "```\n"
   ]
  },
  {
   "cell_type": "markdown",
   "metadata": {},
   "source": [
    "## 7. Bring the two relative repositories in sync\n",
    "\n",
    "To do that we will use a variation of the command called `pull`, that pulls potential changes that exist in the remote version of the repository in GitHub in our local copy. "
   ]
  },
  {
   "cell_type": "markdown",
   "metadata": {},
   "source": [
    "`git pull upstream main --ff-only`\n",
    "\n",
    "\n",
    "The flag `--ff-only` protects us from overwriting work that may be in conflict between the two remote versions."
   ]
  },
  {
   "cell_type": "markdown",
   "metadata": {},
   "source": [
    "## 8. Update our own version under our GitHub name with latest changes from the initial repository\n",
    "\n",
    "After retrieving all the potential changes that exist between our own personal forked repository with the initial repository under `lifebit-ai` we can use the command `push` to update our version with latest changes. To do that, type:\n",
    "\n",
    "```\n",
    "git push\n",
    "\n",
    "```\n",
    "\n",
    "This will send the latest changes that were added in your local copy in step 5. to your forked repository. You will be prompted to authenticate giving your username and password in the terminal."
   ]
  },
  {
   "cell_type": "markdown",
   "metadata": {},
   "source": [
    "This routine can be repeated everytime we want to synchronize our forked version of the repository with the one that we initially forked from to keep track of the project latest changes."
   ]
  }
 ],
 "metadata": {
  "kernelspec": {
   "display_name": "Bash",
   "language": "bash",
   "name": "bash"
  },
  "language_info": {
   "codemirror_mode": "shell",
   "file_extension": ".sh",
   "mimetype": "text/x-sh",
   "name": "bash"
  }
 },
 "nbformat": 4,
 "nbformat_minor": 4
}
