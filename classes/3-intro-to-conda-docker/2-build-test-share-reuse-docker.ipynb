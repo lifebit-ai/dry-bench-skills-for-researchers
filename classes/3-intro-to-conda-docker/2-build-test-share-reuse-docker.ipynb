{
 "cells": [
  {
   "cell_type": "markdown",
   "metadata": {},
   "source": [
    "# Combining dependency management with conda and Docker\n",
    "  We can combine an environment.yml file with a Dockerfile and an install.R\n",
    "  script to cover many container use cases for Bioinformatics.\n",
    "\n",
    "### **Overview**\n",
    "\n",
    "The [`nf-core`](https://github.com/nf-core) community has established a highly practical convention for creating  docker containers by re-using an **environment.yml** file that can be also used for installing dependencies in an interactive session.\n",
    "\n",
    "There are 3 main ingredients to this Dockerfile formula:\n",
    "\n",
    "1. The **environment.yml** file\n",
    "2. The template **Dockerfile**\n",
    "3. An **install.R** file _**\\(optional\\)**_ \n",
    "\n",
    " The latter is only optional and can be possibly proven useful for R libraries that are _**not**_  available via **conda**.\n",
    "\n",
    "### Templates for each of the 3 files\n",
    "\n",
    "1. **environment.yml**\n",
    "\n",
    "This file has no difference when used within a Dockerfile installation or when used natively for installing dependencies via conda. We will utilise this to create a concise Dockerfile.\n",
    "\n",
    "```yaml\n",
    "name: my-new-env\n",
    "channels:\n",
    "  - conda-forge\n",
    "  - bioconda\n",
    "  - r\n",
    "dependencies:\n",
    "  - python\n",
    "  - r-base\n",
    "  - r-devtools=2.2\n",
    "```\n",
    "\n",
    "**2. install.R**   \n",
    "_**Optional**_ but frequently useful, when dependencies are not available via conda. The file requires 2 lines that will prevent issues that come with non-interactive R installation."
   ]
  },
  {
   "cell_type": "markdown",
   "metadata": {},
   "source": [
    "```r\n",
    "Sys.setenv(TAR = \"/bin/tar\")\n",
    "options(repos = \"https://cloud.r-project.org/\")\n",
    "install.packages(\"remotes\")\n",
    "install.packages(\"BiocManager\")\n",
    "```\n",
    "\n",
    "**3. Dockerfile**  \n",
    "  \n",
    "The Dockerfile is the most integral file in the process, it constitutes the main installation blueprint in which the auxillary files **`environment.yml`** ``and **`install.R`** will be included in.\n",
    "\n",
    "The only part of the following **Dockerfile** that may be useful to update is the name of the environment:"
   ]
  },
  {
   "cell_type": "markdown",
   "metadata": {},
   "source": [
    "\n",
    "```Dockerfile\n",
    "# Snippet to update (See in the full template below the line 5)\n",
    "ARG ENV_NAME=\"my-test-env\"\n",
    "```"
   ]
  },
  {
   "cell_type": "markdown",
   "metadata": {},
   "source": [
    "```Dockerfile\n",
    "# Full contents of Dockerfile\n",
    "\n",
    "FROM continuumio/miniconda3:4.8.2\n",
    "LABEL description=\"Base docker image with conda and util libraries\"\n",
    "ARG ENV_NAME=\"my-test-env\"\n",
    "\n",
    "# Install mamba for faster installation in the subsequent step\n",
    "# Install r-base for being able to run the install.R script\n",
    "RUN conda install -c conda-forge mamba r-base -y\n",
    "\n",
    "# Install the conda environment\n",
    "COPY environment.yml /\n",
    "RUN mamba env create --quiet --name ${ENV_NAME} --file /environment.yml && conda clean -a\n",
    "\n",
    "# Install R packages that are possibly not available via conda\n",
    "COPY bin/install.R /\n",
    "RUN Rscript /install.R\n",
    "\n",
    "# Add conda installation dir to PATH (instead of doing 'conda activate')\n",
    "ENV PATH /opt/conda/envs/${ENV_NAME}/bin:$PATH\n",
    "\n",
    "# Dump the details of the installed packages to a file for posterity\n",
    "RUN mamba env export --name ${ENV_NAME} > ${ENV_NAME}_exported.yml\n",
    "\n",
    "# Copy additional scripts from bin and add to PATH\n",
    "RUN mkdir /opt/bin\n",
    "COPY bin/* /opt/bin/\n",
    "RUN chmod +x /opt/bin/*\n",
    "ENV PATH=\"$PATH:/opt/bin/\"\n",
    "```\n",
    "\n",
    "###  **Combining all the files to build the docker image**🐳 \n",
    "\n",
    "To build the docker container and create the docker image we will need the auxillary files to be in the same directory or a subdirectory of the root repo of the Dockerfile.  \n",
    "  \n",
    "It is typical that all files reside in the same directory. An also common practice is to create a helper folder named `bin` to hold all of the scripts and executables. To proceed withh the installation commands, make sure that your files in your directory look similar to this if you want to use the template without updating any paths:"
   ]
  },
  {
   "cell_type": "markdown",
   "metadata": {},
   "source": [
    "```bash\n",
    "➜ tree\n",
    ".\n",
    "├── Dockerfile\n",
    "├── bin\n",
    "│   └── install.R\n",
    "├── environment.yml\n",
    "```"
   ]
  },
  {
   "cell_type": "markdown",
   "metadata": {},
   "source": [
    "The command to build the docker container is the following, when the Dockerfile resides in the current directory:  "
   ]
  },
  {
   "cell_type": "markdown",
   "metadata": {},
   "source": [
    "```bash\n",
    "docker build -t lifebitai/test-docker-image:v0.1 .\n",
    "```"
   ]
  },
  {
   "cell_type": "markdown",
   "metadata": {},
   "source": [
    "It is advised to you the tag, the mark after the colon to label the version of the docker image that will be created.  \n",
    "  "
   ]
  },
  {
   "cell_type": "markdown",
   "metadata": {},
   "source": [
    "### Pushing the docker image to the Docker Hub registry\n",
    "\n",
    "After the successful build process we are able to store in a registry the created docker image.  \n",
    "To do so, make sure you have used the login command from the terminal and have followed the command prompt to authenticate:"
   ]
  },
  {
   "cell_type": "markdown",
   "metadata": {},
   "source": [
    "```bash\n",
    "docker login\n",
    "```"
   ]
  },
  {
   "cell_type": "markdown",
   "metadata": {},
   "source": [
    "After successfully logging in you will be able to run the final command to push the docker image by typing:  \n"
   ]
  },
  {
   "cell_type": "markdown",
   "metadata": {},
   "source": [
    "```bash\n",
    "docker push lifebitai/test-docker-image:v0.1\n",
    "```"
   ]
  },
  {
   "cell_type": "markdown",
   "metadata": {},
   "source": [
    "### Testing or running the docker image\n",
    "\n",
    "To use the created docker image, a simple yet very practical way is to mount as a volume the current working directory. This will ensure access to the files available in the folder but also allow the generated results of the analysis to be retained after exiting the docker container.  \n",
    "  \n",
    "To run the docker container with the current working directory mounted, type the following command:  \n"
   ]
  },
  {
   "cell_type": "markdown",
   "metadata": {
    "lines_to_next_cell": 0
   },
   "source": [
    "```bash\n",
    "docker run -v $PWD:$PWD -w $PWD -it  lifebitai/test-docker-image:v0.1\n",
    "```"
   ]
  },
  {
   "cell_type": "markdown",
   "metadata": {},
   "source": [
    "\n"
   ]
  }
 ],
 "metadata": {
  "jupytext": {
   "cell_metadata_filter": "-all",
   "main_language": "bash",
   "notebook_metadata_filter": "-all"
  },
  "kernelspec": {
   "display_name": "Bash",
   "language": "bash",
   "name": "bash"
  },
  "language_info": {
   "codemirror_mode": "shell",
   "file_extension": ".sh",
   "mimetype": "text/x-sh",
   "name": "bash"
  }
 },
 "nbformat": 4,
 "nbformat_minor": 4
}
